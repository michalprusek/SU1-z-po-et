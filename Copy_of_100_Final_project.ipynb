{
  "nbformat": 4,
  "nbformat_minor": 0,
  "metadata": {
    "colab": {
      "provenance": [],
      "include_colab_link": true
    },
    "kernelspec": {
      "display_name": "Python 3",
      "name": "python3"
    },
    "language_info": {
      "codemirror_mode": {
        "name": "ipython",
        "version": 3
      },
      "file_extension": ".py",
      "mimetype": "text/x-python",
      "name": "python",
      "nbconvert_exporter": "python",
      "pygments_lexer": "ipython3",
      "version": "3.7.6"
    }
  },
  "cells": [
    {
      "cell_type": "markdown",
      "metadata": {
        "id": "view-in-github",
        "colab_type": "text"
      },
      "source": [
        "<a href=\"https://colab.research.google.com/github/michalprusek/SU1-z-po-et/blob/main/Copy_of_100_Final_project.ipynb\" target=\"_parent\"><img src=\"https://colab.research.google.com/assets/colab-badge.svg\" alt=\"Open In Colab\"/></a>"
      ]
    },
    {
      "cell_type": "markdown",
      "metadata": {
        "id": "mKy9U3s_rzSv"
      },
      "source": [
        "## Cíl\n",
        "Cílem tohoto projektu je klasifikovat mou rukou psané číslice.\n",
        "\n",
        "Ke klasifikaci využívám fúzi tří modelů - kNN, SVM, Random Forest.\n",
        "\n",
        "Příznaky jsou vytvořeny pomocí Fourierových deskriptorů kontur jednotlivých číslic. Je ponecháno prvních 30. Jednotlivé Fourierovy deskriptory jsou ve formě komplexních čísel. Tudíž vzniká celkem 60-dimenzionální příznakový prostor.\n",
        "\n",
        "Výsledkem je pak program, který na základě poskytnuté sekvence rukou napsaných číslic dokáže tyto číslice rozpoznat a převést na pole znaků."
      ]
    },
    {
      "cell_type": "markdown",
      "metadata": {
        "id": "DlPp5EXLirb6"
      },
      "source": [
        "## Dataset\n",
        "\n",
        "Dataset obsahuje celkem 10 tříd (číslice od 0 do 9). Pro každou třídu se v datasetu nachází přibližně 800 vzorků (obrázků číslice). Ukázky číslic z datasetu vypadají následovně:\n",
        "\n",
        "![0 - 817.png](data:image/png;base64,iVBORw0KGgoAAAANSUhEUgAAADYAAABFCAAAAAAkmEpuAAABUklEQVRIDZ3BSY7kMAADMOr/j9YUMNmc2H0wGVtiS2yJLbEltsSW2BJbYkssVazEXB1iJqbqEhMxU8RPEV8xUcR/JT5iosSpxFt8lbiVeImPEk8lRvFR4qnEKN5KjEoM4q3irWIQLyXeSjzFS4mPiqd4qfgq8RCjEl8lHmJUMVPxEKOKmRK3GJSYqrjFoMRUxS0GFXMlLjGoWKi4xKBioeISg4qFiksMKhZKnGJQsVJxikHFSsUpBhUrFacYVKxUnGJQsVLiEIOKlRKHeCqxVHGIh/qJlYpDPDQqVioOcasosVBxiFuDEnMVh7hU/NRPTFQc4lLxX8VXiUNcKv5S4hCXEn+oOMWtYq3EKW4llkqc4qFipcQlHkrMlbjFU4mZIm4xKOKtfuIhRvUTT/UTg3ipQ9QlRvFRb/EWE/UQE7FSsRRbYktsiS2xJbbEltgSW/4BcVRjRuDGyL4AAAAASUVORK5CYII=)\n",
        "![1 - 800.png](data:image/png;base64,iVBORw0KGgoAAAANSUhEUgAAAC8AAAA6CAAAAAAFV19YAAAA7UlEQVRIDZXBAVLjQBAAMfX/Hz0HRYgdOxtupezJnuzJnuzJnuzJnuzJnvyHkYf8aZCH/GV8yUP+ML7kVz4b3/IrnwwaecoHQ4Y8ZW2IkUNWBjHkkIVBGDnJe0O+DDnJO4N8GznLG4N8G3KWuyE/Rl7kapAfQ17kYpCHkVd5NeRp5FVeDHka8ipnQw4jFzkZchhykcOQk5GrHEbORq7yNHI25CpPI2dDrnKYnI3cZGnkJitDbrIycpeVkbusjNxlYchdFobcZWHIXRZG3sjCyBtZGHkjKyN3WRlyk6WRm+zJnuzJnuzJnuzJnuz5ByONOzsHZYqDAAAAAElFTkSuQmCC)\n",
        "![2 - 815.png](data:image/png;base64,iVBORw0KGgoAAAANSUhEUgAAACoAAABBCAAAAACCm2keAAAA9klEQVRIDY3BAZLUMBAAMfX/Hz1AsVycrENZyrEcy7Ecy7Ecy7Ecy7Ecy87kW57GX3nIwyCG3OVmyF8jN1kN+Riyymrkx8gqi5HLyCqXkcXIKpeR1WSVy8hqZJHL5GZkkcvkZmSRy8hqZJHLyGqyymKyGFnl1cgqr0ZWeTNklTcjN3kzcpMXI3fZG3KXvZGHbA15yM6Qp+yMfMnGkC/5NuRbvgzZyJchG3kaspOHIVu5G7KXm0H2cjPkRVZD3mQx5FUug7zKj0He5cf4La/yY3xkK5exyFNuxiI32Rj/5JJ344985P9GPnIsx3Isx3Isx3Isx3LsF678O0JhfD/cAAAAAElFTkSuQmCC)\n",
        "![3 - 805.png](data:image/png;base64,iVBORw0KGgoAAAANSUhEUgAAADYAAABGCAAAAACiDDjAAAABK0lEQVRIDZ3BC1ajABRAsdz9L/rNqFj5lXJI8kgeySN5JI/kkTySR/JIHskHQw5yYSyyk3eG/BjZyrkhLyMbOTWyNtnIiZGtyUZOTHZG1nI02RtZy9Fkb2QtR5O9kbUcjeyMrOXEZGeykROTnclG7hjZyB0jG7lhZCs3jGzls5GdfDSyl0+G7OWDIQe5NuQol4acyJUhZ3JhyKm8N+Rc3hryRt4Y8lbODfkzvuRXzgyyGC9Z5GiQb+NH/htZ5GAQxo8sRhbZGytZGVlkbyyyM7LIbSO/cteQX7lpyEvuGfIntwzyJ3cMspIbhmzko0G28skgO7k2yEEujC85ylvjS87k3PiWc1mbfBk/8k5eBhmLXMjL+JNreRnfckMeySN5JI/kkTySR/JIHvkHiZxIR3rF0boAAAAASUVORK5CYII=)\n",
        "![4 - 804.png](data:image/png;base64,iVBORw0KGgoAAAANSUhEUgAAACwAAAA3CAAAAABS/veFAAAA1ElEQVRIDZXBCU4lMRBAMb/7H7oGDaiXQL4UOwdyIAdyIAdyIAdyIAdyIL+N/Cm/jPwtq5GNLIZsZDGyk7chO3kb2crbyFZeRvbyMrKXp5EP8jTyQZ5GPsjDyCd5GPkkDyO3QZ5yG3IZX/KU28htZJHbyGXIIreRy8gqlyGXkVUuQy4jq1yGXEb+G/mRy5DLCONLfuQ2chnfcsttyLfxLU+5jbcs8jQessrb+BJGVtkYssjOyCI7I4vsjCyyNVlka7LI1mSRAzmQAzmQAzmQAzmQA/8AqT4yOFsJzXUAAAAASUVORK5CYII=)\n",
        "![5 - 800.png](data:image/png;base64,iVBORw0KGgoAAAANSUhEUgAAADAAAAA5CAAAAABVZveTAAAA1klEQVRIDZXBC5KCQBQAsfT9D/3W2vIHIjJJFmVRFmVRFmVRFmVRFmVRvhj/spMj4yUb+TRuciwfBvkme0O+y86QE9kaciZbI6eyNXIqW0POZGfIiewN+S4fBvkmBwY5liPjJkdybNzkU74ZN9nLd4Ps5MwgGzk35F1+GXmTn0Ze8tvIUy4YecgVk4dcMXKXK0bucsXIXa4YucsVk4dcMPKQl5EjQx7yNHJkyFOeBtkb5CUv41/uxr+8y5txIBvZGFvZy6dxk2NZlEVZlEVZlEVZlEVZ9AeZNSo6qfMNRgAAAABJRU5ErkJggg==)\n",
        "![6 - 796.png](data:image/png;base64,iVBORw0KGgoAAAANSUhEUgAAADYAAAA/CAAAAACOIWTJAAABIUlEQVRIDZ3BB5LbMAAEMOz/H71xOdkqpJUhEEtiSSyJJbEklsSSWBJLYkn8l3qJP/Ef6iF24lYRR3GjiLP4qYir+KXESMwVMRRTJSZipsRMjBUxFUMlfoiREr/EQImf4qrEb3FR4kZclLgRZyXuxFnFrTgpcSuO6iwG0tirkThJ46ve4qNe4iCNj3qIiyL2UvGnHmKkiK9UvNVTjJX4SMVbPcVExUcq3uopZio2aWzqIWYqNml8FDFTsUnjq55iqGKTxleFxlDFJvYqpio2sVdipmITeyUmKj7ioGKi4iMOSgxVfMVRxUjFThyVuKrYi5MSZxUHcVbioMRRXJT4KuIkrop4qYe4iIHaiYEYq5cYiyWxJJbEklgSS2JJLIkl/wA4rU1A5uBnWwAAAABJRU5ErkJggg==)\n",
        "![7 - 796.png](data:image/png;base64,iVBORw0KGgoAAAANSUhEUgAAADEAAAA/CAAAAABs/X+wAAAA3UlEQVRIDZXBAW7cMBAAMc7/H71FgSD12dK5InMqp3Iqp3Iqp3Iqp3Iqp/Jr8j/ya8i7/DP+ynf5MBZylYdxl4u8GrnIq5GLvBq5yKuRi7wZucqbkau8GbnKiyFXeTHyIS9GPuS7IR/y3cinfDXkU74auck3Q25yN+THkJvcjaX8yN4gd9kb8pC9IQ/ZGvKUrSFP2RmykJ0hC9kYspKNIStZG7KUtSFLWRqylqUha1kZspGVIRtZGLKThSE7eRqylachW3kYspeHIXt5mnyRUzmVUzmVUzmVUzmVU38ATmstQKxXchMAAAAASUVORK5CYII=)\n",
        "![8 - 794.png](data:image/png;base64,iVBORw0KGgoAAAANSUhEUgAAACYAAABHCAAAAABO/mqNAAABNklEQVRIDY3BQYKqCAAFsdT9D/3m24MCuiHJI3kkj+SRPJJH8kgeySN5JD+G3OXbvOQmX0YmN7kbYXKVm5F/Jle5mbxMrnI18jK5ytXkf8tVLiaH5SoXk8NyldPkbbnKafK2XOU0OUyucpocJlc5LW+Tq5yWt8lVPiZvy00+Jm/LTT4mh8lNPob8mdzkY8ifyU1OQ16Wu5zWCJO7nKYRk7tcLCPLl1xM5p98ydViyJf8GPmSXyN3+TH/5CY/lpGr/FhMrvJtwuQi35aXySnflpfJKV8mfyYf+TL53/KRL8th8pa7ydvylrvJ2+SQu8nb5JC7ycdyyN1yWg65W07LIXfLaTnkbvKxHHI3+VgOuZu8TQ65Gzksb/ky8mfylm/zkslHfs2fnPJIHskjeSSP5JE8kkfyyH/Q52VIBkS4+wAAAABJRU5ErkJggg==)\n",
        "![9 - 804.png](data:image/png;base64,iVBORw0KGgoAAAANSUhEUgAAAC4AAABGCAAAAACWdfncAAABOklEQVRIDZXBAVLjQBAAMfX/Hz0XSGyvgdsqS3kkj+SRPJJH8kgeySN5JI/kP8a33ORP46XxkkX+MuTbyCJ/GPIxGvnIb0NOg3zkt5HFkI/8MrIYcshPQxZDDvlhyGKQQ34YWQ1yyN2QxXjJIXcji/Elh9wMuQwNOeRmZDEycspqyGXEyCmrkcsQI6cshpyGMHLKYshhCENOWYwchrwMOeUy5GPIl5FLLkPehnwbueQy8jbkbeSSy8iXQT5GLjkNeRnkY8glpyHGSw5DLrmMt1xGFrmML1mNLLKa/DCyyN7IIltDFtkassjWyCpbI6tsjayyNbLK1sgqO0NW2Rm5yc7ITXZGbrIzcpOdkZvsjNxkZ+QmOyM32ZncZWPkLjuTu+xM7rIzucvOyE0eySN5JI/kkTySR/JIHvkHH7VcR9u7smsAAAAASUVORK5CYII=)\n",
        "\n",
        "dataset k dispozici na: [github - dataset](https://github.com/michalprusek/SU1-z-po-et/tree/main)\n",
        "\n",
        "Zároveň součástí datasetu jsou i napočítané Fourierovy deskriptory, celého datasetu uložené do npy souboru.\n",
        "\n",
        "\n"
      ]
    },
    {
      "cell_type": "markdown",
      "source": [
        "## Code"
      ],
      "metadata": {
        "id": "mGwd92fZX_Sf"
      }
    },
    {
      "cell_type": "markdown",
      "source": [
        "### Imports"
      ],
      "metadata": {
        "id": "z6XuFgd_aEsm"
      }
    },
    {
      "cell_type": "code",
      "source": [
        "import numpy as np\n",
        "from collections import Counter\n",
        "from sklearn.metrics import confusion_matrix\n",
        "from sklearn.metrics import classification_report\n",
        "from sklearn.svm import SVC\n",
        "from sklearn.ensemble import RandomForestClassifier\n",
        "from sklearn.model_selection import train_test_split\n",
        "import sys\n",
        "import cv2 as cv\n",
        "import matplotlib.pyplot as plt"
      ],
      "metadata": {
        "id": "zMhIbmUOaGii"
      },
      "execution_count": 3,
      "outputs": []
    },
    {
      "cell_type": "code",
      "source": [
        "from google.colab import drive\n",
        "drive.mount('/content/drive')"
      ],
      "metadata": {
        "colab": {
          "base_uri": "https://localhost:8080/"
        },
        "id": "YWHUu5WE6pVf",
        "outputId": "c24cf359-2dce-409b-c272-b7e3049d6a33"
      },
      "execution_count": 10,
      "outputs": [
        {
          "output_type": "stream",
          "name": "stdout",
          "text": [
            "Mounted at /content/drive\n"
          ]
        }
      ]
    },
    {
      "cell_type": "markdown",
      "source": [
        "###kNN Class"
      ],
      "metadata": {
        "id": "pTF33mpfZdcN"
      }
    },
    {
      "cell_type": "code",
      "source": [
        "class kNN:\n",
        "    def __init__(self, kNeighbours, X_train, y_train):\n",
        "        self.k = kNeighbours\n",
        "        self.X_train = X_train\n",
        "        self.y_train = y_train\n",
        "\n",
        "\n",
        "    def predict(self, X_test):\n",
        "      y_predicted = []\n",
        "      distances = np.zeros((self.X_train.shape[0]))\n",
        "      for seq in X_test:\n",
        "        for i in range(distances.shape[0]):\n",
        "          mensi = min(len(seq), len(self.X_train[i]))\n",
        "          norma = np.linalg.norm(seq[:mensi] - self.X_train[i][:mensi])\n",
        "\n",
        "          distances[i] = norma\n",
        "\n",
        "\n",
        "        kNNGestures = []\n",
        "        for i in range(self.k):\n",
        "          argMin = np.argmin(distances)\n",
        "          kNNGestures.append(self.y_train[argMin])\n",
        "          distances[argMin] = np.max(distances)\n",
        "\n",
        "        b = Counter(kNNGestures)\n",
        "\n",
        "        vyherniGesto = b.most_common(1)[0][0]\n",
        "\n",
        "        y_predicted.append(vyherniGesto)\n",
        "\n",
        "      return y_predicted\n",
        "\n",
        "    def metrics(self, y_predicted, y_test):\n",
        "        print(confusion_matrix(y_predicted, y_test))\n",
        "        print(classification_report(y_predicted, y_test))"
      ],
      "metadata": {
        "id": "HBX0maDnYQYb"
      },
      "execution_count": 4,
      "outputs": []
    },
    {
      "cell_type": "markdown",
      "source": [
        "### SVM Class"
      ],
      "metadata": {
        "id": "A7YrKWKlZli3"
      }
    },
    {
      "cell_type": "code",
      "source": [
        "class SVM:\n",
        "    def __init__(self, X_train, y_train):\n",
        "        self.X_train = self.separate_real_imaginary_list(X_train)\n",
        "        self.y_train = y_train\n",
        "\n",
        "    def fit(self):\n",
        "        self.svm_classifier = SVC(kernel='rbf', gamma='scale', decision_function_shape='ovr')\n",
        "        self.svm_classifier.fit(self.X_train, self.y_train)\n",
        "\n",
        "    def predict(self,  X_test):\n",
        "        X_test = self.separate_real_imaginary_list(X_test)\n",
        "        y_predicted = self.svm_classifier.predict(X_test)\n",
        "        return y_predicted\n",
        "\n",
        "    def metrics(self, y_predicted, y_test):\n",
        "        print(confusion_matrix(y_predicted, y_test))\n",
        "        print(classification_report(y_predicted, y_test))\n",
        "\n",
        "    def separate_real_imaginary_list(self, descriptors):\n",
        "        feature_vectors = []\n",
        "        for seq in descriptors:\n",
        "            real_parts = np.real(seq)\n",
        "            imaginary_parts = np.imag(seq)\n",
        "            feature_vectors.append(np.concatenate((real_parts, imaginary_parts)))\n",
        "\n",
        "        return feature_vectors"
      ],
      "metadata": {
        "id": "_TW_6Z2qZnQn"
      },
      "execution_count": 5,
      "outputs": []
    },
    {
      "cell_type": "markdown",
      "source": [
        "### Random Forest Class"
      ],
      "metadata": {
        "id": "K0hsAmadZv45"
      }
    },
    {
      "cell_type": "code",
      "source": [
        "class RandomForest:\n",
        "    def __init__(self, X_train, y_train):\n",
        "        self.X_train = self.separate_real_imaginary_list(X_train)\n",
        "        self.y_train = y_train\n",
        "\n",
        "    def fit(self):\n",
        "        self.rf_classifier = RandomForestClassifier(n_estimators=100, random_state=42)\n",
        "        self.rf_classifier.fit(self.X_train, self.y_train)\n",
        "\n",
        "    def predict(self, X_test):\n",
        "        X_test = self.separate_real_imaginary_list(X_test)\n",
        "        y_predicted = self.rf_classifier.predict(X_test)\n",
        "        return y_predicted\n",
        "\n",
        "    def metrics(self, y_predicted, y_test):\n",
        "        print(confusion_matrix(y_predicted, y_test))\n",
        "        print(classification_report(y_predicted, y_test))\n",
        "\n",
        "    def separate_real_imaginary_list(self, descriptors):\n",
        "        feature_vectors = []\n",
        "        for sequence in descriptors:\n",
        "            real_parts = np.real(sequence)\n",
        "            imaginary_parts = np.imag(sequence)\n",
        "            feature_vectors.append(np.concatenate((real_parts, imaginary_parts)))\n",
        "\n",
        "        return feature_vectors"
      ],
      "metadata": {
        "id": "BCuNM-UfZyYU"
      },
      "execution_count": 6,
      "outputs": []
    },
    {
      "cell_type": "markdown",
      "source": [
        "### Other Functions"
      ],
      "metadata": {
        "id": "PMyZQbNnbDKb"
      }
    },
    {
      "cell_type": "code",
      "source": [
        "def winners(knn_predicted, svm_predicted, rf_predicted):\n",
        "  if len(knn_predicted) == len(svm_predicted) == len(rf_predicted):\n",
        "    winners_array = []\n",
        "    for i in range(len(rf_predicted)):\n",
        "        arr = [knn_predicted[i], svm_predicted[i], rf_predicted[i]]\n",
        "        b = Counter(arr)\n",
        "\n",
        "        winner = b.most_common(1)[0][0]\n",
        "        winners_array.append(winner)\n",
        "\n",
        "    return winners_array\n",
        "  else:\n",
        "    print(\"pole nemají stejnou délku\")\n",
        "    sys.exit()\n",
        "\n",
        "def metrics(y_predicted, y_test):\n",
        "    print(confusion_matrix(y_predicted, y_test))\n",
        "    print(classification_report(y_predicted, y_test))\n",
        "\n",
        "def fourier_descriptors(contour, num):\n",
        "    contour_complex = contour[:, 0, 0] + contour[:, 0, 1] * 1j\n",
        "    ft_contour = np.fft.fft(contour_complex)\n",
        "    fd = ft_contour[1:num + 1] / (len(ft_contour) ** 2)\n",
        "    return fd"
      ],
      "metadata": {
        "id": "JpzZ6Y8KbGc2"
      },
      "execution_count": 7,
      "outputs": []
    },
    {
      "cell_type": "markdown",
      "source": [
        "### Main Script - Accuracy"
      ],
      "metadata": {
        "id": "dv3zC5BAZ3xX"
      }
    },
    {
      "cell_type": "code",
      "source": [
        "# načtení souboru s FD všech kontur z datasetu\n",
        "file = np.load(\"/content/drive/MyDrive/Colab Notebooks/FD.npy\", encoding='bytes', allow_pickle=True)\n",
        "\n",
        "deskriptory = file[0]\n",
        "cislice = file[1]\n",
        "\n",
        "# rozdělení datasetu na trénovací a testovací\n",
        "X_train, X_test, y_train, y_test = train_test_split(deskriptory, cislice, test_size=0.2, random_state=42)"
      ],
      "metadata": {
        "id": "7X5pYeI9Z-7-"
      },
      "execution_count": 18,
      "outputs": []
    },
    {
      "cell_type": "markdown",
      "source": [
        "kNN - Accuracy"
      ],
      "metadata": {
        "id": "zt57AqDubUL7"
      }
    },
    {
      "cell_type": "code",
      "source": [
        "knn = kNN(7, X_train, y_train)\n",
        "knn_predicted = knn.predict(X_test)\n",
        "knn.metrics(knn_predicted, y_test)"
      ],
      "metadata": {
        "id": "eH8Yk2KHbZdC"
      },
      "execution_count": null,
      "outputs": []
    },
    {
      "cell_type": "markdown",
      "source": [
        "SVM - Accuracy"
      ],
      "metadata": {
        "id": "lOmG-5JdbdDR"
      }
    },
    {
      "cell_type": "code",
      "source": [
        "svm = SVM(X_train, y_train)\n",
        "svm.fit()\n",
        "svm_predicted = svm.predict(X_test)\n",
        "svm.metrics(svm_predicted, y_test)"
      ],
      "metadata": {
        "colab": {
          "base_uri": "https://localhost:8080/"
        },
        "id": "MiwpocIGbeUZ",
        "outputId": "094cc1c5-f3ac-4653-cdf9-bc469f96c3a1"
      },
      "execution_count": 19,
      "outputs": [
        {
          "output_type": "stream",
          "name": "stdout",
          "text": [
            "[[168   0   0   0   1   0   0   0   1   3]\n",
            " [  0 155   2   0   1   1   0   0   0   3]\n",
            " [  0   1 154   1   0   0   0   3   0   0]\n",
            " [  1   0   0 174   0   0   0   1   0   0]\n",
            " [  0   0   0   0 148   0   1   0   1   2]\n",
            " [  1   0   0   1   0 167   0   0   2   0]\n",
            " [  0   0   0   0   0   0 161   0   4   1]\n",
            " [  1   0   1   0   0   0   0 148   0   0]\n",
            " [  2   0   1   0   0   0   1   0 138   3]\n",
            " [  2   2   0   0   1   0   4   0   4 136]]\n",
            "              precision    recall  f1-score   support\n",
            "\n",
            "           0       0.96      0.97      0.97       173\n",
            "           1       0.98      0.96      0.97       162\n",
            "           2       0.97      0.97      0.97       159\n",
            "           3       0.99      0.99      0.99       176\n",
            "           4       0.98      0.97      0.98       152\n",
            "           5       0.99      0.98      0.99       171\n",
            "           6       0.96      0.97      0.97       166\n",
            "           7       0.97      0.99      0.98       150\n",
            "           8       0.92      0.95      0.94       145\n",
            "           9       0.92      0.91      0.92       149\n",
            "\n",
            "    accuracy                           0.97      1603\n",
            "   macro avg       0.97      0.97      0.97      1603\n",
            "weighted avg       0.97      0.97      0.97      1603\n",
            "\n"
          ]
        }
      ]
    },
    {
      "cell_type": "markdown",
      "source": [
        "Random Forest - Accuracy"
      ],
      "metadata": {
        "id": "psNHzkj3bhYF"
      }
    },
    {
      "cell_type": "code",
      "source": [
        "rf = RandomForest(X_train, y_train)\n",
        "rf.fit()\n",
        "rf_predicted = rf.predict(X_test)\n",
        "rf.metrics(rf_predicted, y_test)"
      ],
      "metadata": {
        "colab": {
          "base_uri": "https://localhost:8080/"
        },
        "id": "MnbMxF6IbkM3",
        "outputId": "e5a04c36-f8be-4c1d-bb60-e5e0eb776c0b"
      },
      "execution_count": 20,
      "outputs": [
        {
          "output_type": "stream",
          "name": "stdout",
          "text": [
            "[[158   1   0   0   1   0   0   0   0   3]\n",
            " [  2 155   3   0   2   0   0   0   0  11]\n",
            " [  0   0 148   1   0   0   0   5   0   0]\n",
            " [  0   0   0 170   0   0   0   4   1   0]\n",
            " [  0   0   0   0 144   0   3   1   3   5]\n",
            " [  2   0   0   2   0 166   0   0   1   0]\n",
            " [  1   0   0   0   0   1 160   0   3   1]\n",
            " [  4   0   2   2   0   1   0 141   0   0]\n",
            " [  5   0   2   1   3   0   1   0 139   1]\n",
            " [  3   2   3   0   1   0   3   1   3 127]]\n",
            "              precision    recall  f1-score   support\n",
            "\n",
            "           0       0.90      0.97      0.93       163\n",
            "           1       0.98      0.90      0.94       173\n",
            "           2       0.94      0.96      0.95       154\n",
            "           3       0.97      0.97      0.97       175\n",
            "           4       0.95      0.92      0.94       156\n",
            "           5       0.99      0.97      0.98       171\n",
            "           6       0.96      0.96      0.96       166\n",
            "           7       0.93      0.94      0.93       150\n",
            "           8       0.93      0.91      0.92       152\n",
            "           9       0.86      0.89      0.87       143\n",
            "\n",
            "    accuracy                           0.94      1603\n",
            "   macro avg       0.94      0.94      0.94      1603\n",
            "weighted avg       0.94      0.94      0.94      1603\n",
            "\n"
          ]
        }
      ]
    },
    {
      "cell_type": "markdown",
      "source": [
        "Fúze - Accuracy"
      ],
      "metadata": {
        "id": "AJcUlp4_brVS"
      }
    },
    {
      "cell_type": "code",
      "source": [
        "y_predicted = winners(knn_predicted, svm_predicted, rf_predicted)\n",
        "metrics(y_predicted, y_test)"
      ],
      "metadata": {
        "id": "f-qQP665buPY"
      },
      "execution_count": null,
      "outputs": []
    },
    {
      "cell_type": "markdown",
      "source": [
        "### Main Script - Real Testing"
      ],
      "metadata": {
        "id": "eR9jHsxgbwt0"
      }
    },
    {
      "cell_type": "code",
      "source": [
        "# načtení obrázku\n",
        "img = cv.imread(\"/content/drive/MyDrive/Colab Notebooks/TEST-final.png\")\n",
        "\n",
        "\n",
        "# zpracování obrázku\n",
        "img = cv.cvtColor(img, cv.COLOR_BGR2GRAY)\n",
        "img[img >= 127] = 255\n",
        "img[img < 127] = 0\n",
        "img = np.invert(img)\n",
        "\n",
        "# nalezení kontur číslic\n",
        "contours, hierarchy = cv.findContours(img, cv.RETR_EXTERNAL, cv.CHAIN_APPROX_SIMPLE)\n",
        "\n",
        "# seřazení kontur zleva doprava\n",
        "sorted_contours = sorted(contours, key=lambda ctr: cv.boundingRect(ctr)[0])\n",
        "\n",
        "# napočítání FD\n",
        "FD_array = []\n",
        "for contour in sorted_contours:\n",
        "    FD = fourier_descriptors(contour, 30)\n",
        "    FD_array.append(FD)\n",
        "\n",
        "\n",
        "# predikce\n",
        "knn_predicted = knn.predict(FD_array)\n",
        "\n",
        "svm_predicted = svm.predict(FD_array)\n",
        "\n",
        "rf_predicted = rf.predict(FD_array)\n",
        "\n",
        "y_predicted = winners(knn_predicted, svm_predicted, rf_predicted)\n",
        "\n",
        "print(y_predicted)\n",
        "\n",
        "# vykreslení původního obrázku\n",
        "plt.figure(figsize=(16,6))\n",
        "plt.imshow(img, cmap=\"gray\")\n",
        "plt.axis(\"off\")\n",
        "plt.show()"
      ],
      "metadata": {
        "id": "K_Sb3uZdb2jz"
      },
      "execution_count": null,
      "outputs": []
    },
    {
      "cell_type": "markdown",
      "metadata": {
        "id": "xFA8079oj8xY"
      },
      "source": [
        "## Výsledky\n",
        "\n",
        "Program správně klasifikuje 97% číslic z testovacího datasetu (tvořen z celého datasetu v poměru 20:80).\n",
        "\n",
        "V reálném testu se ukázalo, že špatně zaklasifikoval pouze jednu číslici: 6 klasifikoval jako 0.\n",
        "\n"
      ]
    }
  ]
}