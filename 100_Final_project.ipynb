{
  "nbformat": 4,
  "nbformat_minor": 0,
  "metadata": {
    "colab": {
      "name": "100 - Final project.ipynb",
      "provenance": [],
      "include_colab_link": true
    },
    "kernelspec": {
      "display_name": "Python 3",
      "language": "python",
      "name": "python3"
    },
    "language_info": {
      "codemirror_mode": {
        "name": "ipython",
        "version": 3
      },
      "file_extension": ".py",
      "mimetype": "text/x-python",
      "name": "python",
      "nbconvert_exporter": "python",
      "pygments_lexer": "ipython3",
      "version": "3.7.6"
    }
  },
  "cells": [
    {
      "cell_type": "markdown",
      "metadata": {
        "id": "view-in-github",
        "colab_type": "text"
      },
      "source": [
        "<a href=\"https://colab.research.google.com/github/michalprusek/SU1-z-po-et/blob/main/100_Final_project.ipynb\" target=\"_parent\"><img src=\"https://colab.research.google.com/assets/colab-badge.svg\" alt=\"Open In Colab\"/></a>"
      ]
    },
    {
      "cell_type": "markdown",
      "metadata": {
        "id": "a6ZZfC2Rl9f4"
      },
      "source": [
        "## The Goal\n"
      ]
    },
    {
      "cell_type": "markdown",
      "metadata": {
        "id": "mKy9U3s_rzSv"
      },
      "source": [
        "Cílem tohoto projektu je klasifikovat mou rukou psané číslice.\n",
        "\n",
        "Ke klasifikaci využívám fúzi tří modelů - kNN, SVM, Random Forest.\n",
        "\n",
        "Příznaky jsou vytvořeny pomocí Fourierových deskriptorů kontur jednotlivých číslic. Je ponecháno prvních 30. Jednotlivé Fourierovy deskriptory jsou ve formě komplexních čísel. Tudíž vzniká celkem 60-dimenzionální příznakový prostor.\n",
        "\n",
        "Výsledkem je pak program, který na základě poskytnuté sekvence rukou napsaných číslic dokáže tyto číslice rozpoznat a převést na pole znaků."
      ]
    },
    {
      "cell_type": "markdown",
      "metadata": {
        "id": "kNAqrM59Sp0S"
      },
      "source": [
        "## Code"
      ]
    },
    {
      "cell_type": "markdown",
      "metadata": {
        "id": "DlPp5EXLirb6"
      },
      "source": [
        "### Dataset\n",
        "\n",
        "Dataset obsahuje celkem 10 tříd (číslice od 0 do 9). Pro každou třídu se v datasetu nachází přibližně 800 vzorků (obrázků číslice). Ukázky číslic z datasetu vypadají následovně:\n",
        "\n",
        "![0 - 817.png](data:image/png;base64,iVBORw0KGgoAAAANSUhEUgAAADYAAABFCAAAAAAkmEpuAAABUklEQVRIDZ3BSY7kMAADMOr/j9YUMNmc2H0wGVtiS2yJLbEltsSW2BJbYkssVazEXB1iJqbqEhMxU8RPEV8xUcR/JT5iosSpxFt8lbiVeImPEk8lRvFR4qnEKN5KjEoM4q3irWIQLyXeSjzFS4mPiqd4qfgq8RCjEl8lHmJUMVPxEKOKmRK3GJSYqrjFoMRUxS0GFXMlLjGoWKi4xKBioeISg4qFiksMKhZKnGJQsVJxikHFSsUpBhUrFacYVKxUnGJQsVLiEIOKlRKHeCqxVHGIh/qJlYpDPDQqVioOcasosVBxiFuDEnMVh7hU/NRPTFQc4lLxX8VXiUNcKv5S4hCXEn+oOMWtYq3EKW4llkqc4qFipcQlHkrMlbjFU4mZIm4xKOKtfuIhRvUTT/UTg3ipQ9QlRvFRb/EWE/UQE7FSsRRbYktsiS2xJbbEltgSW/4BcVRjRuDGyL4AAAAASUVORK5CYII=)\n",
        "![1 - 800.png](data:image/png;base64,iVBORw0KGgoAAAANSUhEUgAAAC8AAAA6CAAAAAAFV19YAAAA7UlEQVRIDZXBAVLjQBAAMfX/Hz0HRYgdOxtupezJnuzJnuzJnuzJnuzJnvyHkYf8aZCH/GV8yUP+ML7kVz4b3/IrnwwaecoHQ4Y8ZW2IkUNWBjHkkIVBGDnJe0O+DDnJO4N8GznLG4N8G3KWuyE/Rl7kapAfQ17kYpCHkVd5NeRp5FVeDHka8ipnQw4jFzkZchhykcOQk5GrHEbORq7yNHI25CpPI2dDrnKYnI3cZGnkJitDbrIycpeVkbusjNxlYchdFobcZWHIXRZG3sjCyBtZGHkjKyN3WRlyk6WRm+zJnuzJnuzJnuzJnuz5ByONOzsHZYqDAAAAAElFTkSuQmCC)\n",
        "![2 - 815.png](data:image/png;base64,iVBORw0KGgoAAAANSUhEUgAAACoAAABBCAAAAACCm2keAAAA9klEQVRIDY3BAZLUMBAAMfX/Hz1AsVycrENZyrEcy7Ecy7Ecy7Ecy7Ecy87kW57GX3nIwyCG3OVmyF8jN1kN+Riyymrkx8gqi5HLyCqXkcXIKpeR1WSVy8hqZJHL5GZkkcvkZmSRy8hqZJHLyGqyymKyGFnl1cgqr0ZWeTNklTcjN3kzcpMXI3fZG3KXvZGHbA15yM6Qp+yMfMnGkC/5NuRbvgzZyJchG3kaspOHIVu5G7KXm0H2cjPkRVZD3mQx5FUug7zKj0He5cf4La/yY3xkK5exyFNuxiI32Rj/5JJ344985P9GPnIsx3Isx3Isx3Isx3LsF678O0JhfD/cAAAAAElFTkSuQmCC)\n",
        "![3 - 805.png](data:image/png;base64,iVBORw0KGgoAAAANSUhEUgAAADYAAABGCAAAAACiDDjAAAABK0lEQVRIDZ3BC1ajABRAsdz9L/rNqFj5lXJI8kgeySN5JI/kkTySR/JIHskHQw5yYSyyk3eG/BjZyrkhLyMbOTWyNtnIiZGtyUZOTHZG1nI02RtZy9Fkb2QtR5O9kbUcjeyMrOXEZGeykROTnclG7hjZyB0jG7lhZCs3jGzls5GdfDSyl0+G7OWDIQe5NuQol4acyJUhZ3JhyKm8N+Rc3hryRt4Y8lbODfkzvuRXzgyyGC9Z5GiQb+NH/htZ5GAQxo8sRhbZGytZGVlkbyyyM7LIbSO/cteQX7lpyEvuGfIntwzyJ3cMspIbhmzko0G28skgO7k2yEEujC85ylvjS87k3PiWc1mbfBk/8k5eBhmLXMjL+JNreRnfckMeySN5JI/kkTySR/JIHvkHiZxIR3rF0boAAAAASUVORK5CYII=)\n",
        "![4 - 804.png](data:image/png;base64,iVBORw0KGgoAAAANSUhEUgAAACwAAAA3CAAAAABS/veFAAAA1ElEQVRIDZXBCU4lMRBAMb/7H7oGDaiXQL4UOwdyIAdyIAdyIAdyIAdyIL+N/Cm/jPwtq5GNLIZsZDGyk7chO3kb2crbyFZeRvbyMrKXp5EP8jTyQZ5GPsjDyCd5GPkkDyO3QZ5yG3IZX/KU28htZJHbyGXIIreRy8gqlyGXkVUuQy4jq1yGXEb+G/mRy5DLCONLfuQ2chnfcsttyLfxLU+5jbcs8jQessrb+BJGVtkYssjOyCI7I4vsjCyyNVlka7LI1mSRAzmQAzmQAzmQAzmQA/8AqT4yOFsJzXUAAAAASUVORK5CYII=)\n",
        "![5 - 800.png](data:image/png;base64,iVBORw0KGgoAAAANSUhEUgAAADAAAAA5CAAAAABVZveTAAAA1klEQVRIDZXBC5KCQBQAsfT9D/3W2vIHIjJJFmVRFmVRFmVRFmVRFmVRvhj/spMj4yUb+TRuciwfBvkme0O+y86QE9kaciZbI6eyNXIqW0POZGfIiewN+S4fBvkmBwY5liPjJkdybNzkU74ZN9nLd4Ps5MwgGzk35F1+GXmTn0Ze8tvIUy4YecgVk4dcMXKXK0bucsXIXa4YucsVk4dcMPKQl5EjQx7yNHJkyFOeBtkb5CUv41/uxr+8y5txIBvZGFvZy6dxk2NZlEVZlEVZlEVZlEVZ9AeZNSo6qfMNRgAAAABJRU5ErkJggg==)\n",
        "![6 - 796.png](data:image/png;base64,iVBORw0KGgoAAAANSUhEUgAAADYAAAA/CAAAAACOIWTJAAABIUlEQVRIDZ3BB5LbMAAEMOz/H71xOdkqpJUhEEtiSSyJJbEklsSSWBJLYkn8l3qJP/Ef6iF24lYRR3GjiLP4qYir+KXESMwVMRRTJSZipsRMjBUxFUMlfoiREr/EQImf4qrEb3FR4kZclLgRZyXuxFnFrTgpcSuO6iwG0tirkThJ46ve4qNe4iCNj3qIiyL2UvGnHmKkiK9UvNVTjJX4SMVbPcVExUcq3uopZio2aWzqIWYqNml8FDFTsUnjq55iqGKTxleFxlDFJvYqpio2sVdipmITeyUmKj7ioGKi4iMOSgxVfMVRxUjFThyVuKrYi5MSZxUHcVbioMRRXJT4KuIkrop4qYe4iIHaiYEYq5cYiyWxJJbEklgSS2JJLIkl/wA4rU1A5uBnWwAAAABJRU5ErkJggg==)\n",
        "![7 - 796.png](data:image/png;base64,iVBORw0KGgoAAAANSUhEUgAAADEAAAA/CAAAAABs/X+wAAAA3UlEQVRIDZXBAW7cMBAAMc7/H71FgSD12dK5InMqp3Iqp3Iqp3Iqp3Iqp/Jr8j/ya8i7/DP+ynf5MBZylYdxl4u8GrnIq5GLvBq5yKuRi7wZucqbkau8GbnKiyFXeTHyIS9GPuS7IR/y3cinfDXkU74auck3Q25yN+THkJvcjaX8yN4gd9kb8pC9IQ/ZGvKUrSFP2RmykJ0hC9kYspKNIStZG7KUtSFLWRqylqUha1kZspGVIRtZGLKThSE7eRqylachW3kYspeHIXt5mnyRUzmVUzmVUzmVUzmVU38ATmstQKxXchMAAAAASUVORK5CYII=)\n",
        "![8 - 794.png](data:image/png;base64,iVBORw0KGgoAAAANSUhEUgAAACYAAABHCAAAAABO/mqNAAABNklEQVRIDY3BQYKqCAAFsdT9D/3m24MCuiHJI3kkj+SRPJJH8kgeySN5JD+G3OXbvOQmX0YmN7kbYXKVm5F/Jle5mbxMrnI18jK5ytXkf8tVLiaH5SoXk8NyldPkbbnKafK2XOU0OUyucpocJlc5LW+Tq5yWt8lVPiZvy00+Jm/LTT4mh8lNPob8mdzkY8ifyU1OQ16Wu5zWCJO7nKYRk7tcLCPLl1xM5p98ydViyJf8GPmSXyN3+TH/5CY/lpGr/FhMrvJtwuQi35aXySnflpfJKV8mfyYf+TL53/KRL8th8pa7ydvylrvJ2+SQu8nb5JC7ycdyyN1yWg65W07LIXfLaTnkbvKxHHI3+VgOuZu8TQ65Gzksb/ky8mfylm/zkslHfs2fnPJIHskjeSSP5JE8kkfyyH/Q52VIBkS4+wAAAABJRU5ErkJggg==)\n",
        "![9 - 804.png](data:image/png;base64,iVBORw0KGgoAAAANSUhEUgAAAC4AAABGCAAAAACWdfncAAABOklEQVRIDZXBAVLjQBAAMfX/Hz0XSGyvgdsqS3kkj+SRPJJH8kgeySN5JI/kP8a33ORP46XxkkX+MuTbyCJ/GPIxGvnIb0NOg3zkt5HFkI/8MrIYcshPQxZDDvlhyGKQQ34YWQ1yyN2QxXjJIXcji/Elh9wMuQwNOeRmZDEycspqyGXEyCmrkcsQI6cshpyGMHLKYshhCENOWYwchrwMOeUy5GPIl5FLLkPehnwbueQy8jbkbeSSy8iXQT5GLjkNeRnkY8glpyHGSw5DLrmMt1xGFrmML1mNLLKa/DCyyN7IIltDFtkassjWyCpbI6tsjayyNbLK1sgqO0NW2Rm5yc7ITXZGbrIzcpOdkZvsjNxkZ+QmOyM32ZncZWPkLjuTu+xM7rIzucvOyE0eySN5JI/kkTySR/JIHvkHH7VcR9u7smsAAAAASUVORK5CYII=)\n",
        "\n",
        "dataset k dispozici na: [github - dataset](https://github.com/michalprusek/SU1-z-po-et/tree/main)\n",
        "\n",
        "Zároveň součástí datasetu jsou i napočítané Fourierovy deskriptory, celého datasetu uložené do npy souboru.\n",
        "\n",
        "\n"
      ]
    },
    {
      "cell_type": "markdown",
      "source": [
        "## Code"
      ],
      "metadata": {
        "id": "mGwd92fZX_Sf"
      }
    },
    {
      "cell_type": "markdown",
      "source": [
        "### Imports"
      ],
      "metadata": {
        "id": "z6XuFgd_aEsm"
      }
    },
    {
      "cell_type": "code",
      "source": [
        "import numpy as np\n",
        "from collections import Counter\n",
        "from sklearn.metrics import confusion_matrix\n",
        "from sklearn.metrics import classification_report\n",
        "from sklearn.svm import SVC\n",
        "from sklearn.ensemble import RandomForestClassifier\n",
        "from sklearn.model_selection import train_test_split\n",
        "import sys"
      ],
      "metadata": {
        "id": "zMhIbmUOaGii"
      },
      "execution_count": 1,
      "outputs": []
    },
    {
      "cell_type": "code",
      "source": [
        "\n",
        "!apt-get install -y -qq software-properties-common python-software-properties module-init-tools\n",
        " !add-apt-repository -y ppa:alessandro-strada/ppa 2>&1 > /dev/null\n",
        " !apt-get update -qq 2>&1 > /dev/null\n",
        " !apt-get -y install -qq google-drive-ocamlfuse fuse\n",
        "\n"
      ],
      "metadata": {
        "id": "uzW4njW4eVN-",
        "outputId": "53eb3b71-6781-474d-a617-75691e889bd6",
        "colab": {
          "base_uri": "https://localhost:8080/",
          "height": 143
        }
      },
      "execution_count": 10,
      "outputs": [
        {
          "output_type": "error",
          "ename": "IndentationError",
          "evalue": "ignored",
          "traceback": [
            "\u001b[0;36m  File \u001b[0;32m\"<ipython-input-10-dbda8abab15a>\"\u001b[0;36m, line \u001b[0;32m2\u001b[0m\n\u001b[0;31m    get_ipython().system('add-apt-repository -y ppa:alessandro-strada/ppa 2>&1 > /dev/null')\u001b[0m\n\u001b[0m    ^\u001b[0m\n\u001b[0;31mIndentationError\u001b[0m\u001b[0;31m:\u001b[0m unexpected indent\n"
          ]
        }
      ]
    },
    {
      "cell_type": "markdown",
      "source": [
        "###kNN Class"
      ],
      "metadata": {
        "id": "pTF33mpfZdcN"
      }
    },
    {
      "cell_type": "code",
      "source": [
        "class kNN:\n",
        "    def __init__(self, kNeighbours, X_train, y_train):\n",
        "        self.k = kNeighbours\n",
        "        self.X_train = X_train\n",
        "        self.y_train = y_train\n",
        "        self.y_predicted = []\n",
        "\n",
        "\n",
        "    def predict(self, X_test):\n",
        "        distances = np.zeros((self.X_train.shape[0]))\n",
        "        for seq in X_test:\n",
        "            for i in range(distances.shape[0]):\n",
        "                mensi = min(len(seq), len(self.X_train[i]))\n",
        "                norma = np.linalg.norm(seq[:mensi] - self.X_train[i][:mensi])\n",
        "\n",
        "                distances[i] = norma\n",
        "\n",
        "\n",
        "            kNNGestures = []\n",
        "            for i in range(self.k):\n",
        "                argMin = np.argmin(distances)\n",
        "                kNNGestures.append(self.y_train[argMin])\n",
        "                distances[argMin] = np.max(distances)\n",
        "\n",
        "            b = Counter(kNNGestures)\n",
        "\n",
        "            vyherniGesto = b.most_common(1)[0][0]\n",
        "\n",
        "            self.y_predicted.append(vyherniGesto)\n",
        "\n",
        "        return self.y_predicted\n",
        "\n",
        "    def metrics(self, y_test):\n",
        "        print(confusion_matrix(self.y_predicted, y_test))\n",
        "        print(classification_report(self.y_predicted, y_test))"
      ],
      "metadata": {
        "id": "HBX0maDnYQYb"
      },
      "execution_count": 2,
      "outputs": []
    },
    {
      "cell_type": "markdown",
      "source": [
        "### SVM Class"
      ],
      "metadata": {
        "id": "A7YrKWKlZli3"
      }
    },
    {
      "cell_type": "code",
      "source": [
        "class SVM:\n",
        "    def __init__(self, X_train, y_train):\n",
        "        self.X_train = self.separate_real_imaginary_list(X_train)\n",
        "        self.y_train = y_train\n",
        "        self.y_predicted = None\n",
        "\n",
        "    def fit(self):\n",
        "        self.svm_classifier = SVC(kernel='rbf', gamma='scale', decision_function_shape='ovr')  # OvR strategy\n",
        "        self.svm_classifier.fit(self.X_train, self.y_train)\n",
        "\n",
        "    def predict(self,  X_test):\n",
        "        X_test = self.separate_real_imaginary_list(X_test)\n",
        "        self.y_predicted = self.svm_classifier.predict(X_test)\n",
        "        return self.y_predicted\n",
        "\n",
        "    def metrics(self, y_test):\n",
        "        print(confusion_matrix(self.y_predicted, y_test))\n",
        "        print(classification_report(self.y_predicted, y_test))\n",
        "\n",
        "    def separate_real_imaginary_list(self, descriptors):\n",
        "        feature_vectors = []\n",
        "        for seq in descriptors:\n",
        "            real_parts = np.real(seq)\n",
        "            imaginary_parts = np.imag(seq)\n",
        "            feature_vectors.append(np.concatenate((real_parts, imaginary_parts)))\n",
        "\n",
        "        return feature_vectors"
      ],
      "metadata": {
        "id": "_TW_6Z2qZnQn"
      },
      "execution_count": 3,
      "outputs": []
    },
    {
      "cell_type": "markdown",
      "source": [
        "### Random Forest Class"
      ],
      "metadata": {
        "id": "K0hsAmadZv45"
      }
    },
    {
      "cell_type": "code",
      "source": [
        "class RandomForest:\n",
        "    def __init__(self, X_train, y_train):\n",
        "        self.X_train = self.separate_real_imaginary_list(X_train)\n",
        "        self.y_train = y_train\n",
        "        self.y_predicted = None\n",
        "\n",
        "    def fit(self):\n",
        "        self.rf_classifier = RandomForestClassifier(n_estimators=100, random_state=42)\n",
        "        self.rf_classifier.fit(self.X_train, self.y_train)\n",
        "\n",
        "    def predict(self, X_test):\n",
        "        X_test = self.separate_real_imaginary_list(X_test)\n",
        "        self.y_predicted = self.rf_classifier.predict(X_test)\n",
        "        return self.y_predicted\n",
        "\n",
        "    def metrics(self, y_test):\n",
        "        print(confusion_matrix(self.y_predicted, y_test))\n",
        "        print(classification_report(self.y_predicted, y_test))\n",
        "\n",
        "    def separate_real_imaginary_list(self, descriptors):\n",
        "        feature_vectors = []\n",
        "        for sequence in descriptors:\n",
        "            real_parts = np.real(sequence)\n",
        "            imaginary_parts = np.imag(sequence)\n",
        "            feature_vectors.append(np.concatenate((real_parts, imaginary_parts)))\n",
        "\n",
        "        return feature_vectors"
      ],
      "metadata": {
        "id": "BCuNM-UfZyYU"
      },
      "execution_count": 4,
      "outputs": []
    },
    {
      "cell_type": "markdown",
      "source": [
        "### Other Functions"
      ],
      "metadata": {
        "id": "PMyZQbNnbDKb"
      }
    },
    {
      "cell_type": "code",
      "source": [
        "def winners(knn_predicted, svm_predicted, rf_predicted):\n",
        "  if len(knn_predicted) == len(svm_predicted) == len(rf_predicted):\n",
        "    winners_array = []\n",
        "    for i in range(len(rf_predicted)):\n",
        "        arr = [knn_predicted[i], svm_predicted[i], rf_predicted[i]]\n",
        "        b = Counter(arr)\n",
        "\n",
        "        winner = b.most_common(1)[0][0]\n",
        "        winners_array.append(winner)\n",
        "\n",
        "    return winners_array\n",
        "  else:\n",
        "    print(\"pole nemají stejnou délku\")\n",
        "    sys.exit()\n",
        "\n",
        "\n",
        "def metrics(y_predicted, y_test):\n",
        "    print(confusion_matrix(y_predicted, y_test))\n",
        "    print(classification_report(y_predicted, y_test))\n",
        "\n",
        "\n",
        "\n",
        "def winners_testing(knn_predicted, svm_predicted, rf_predicted):\n",
        "    if len(knn_predicted) == len(svm_predicted) == len(rf_predicted):\n",
        "        winners_array = []\n",
        "        for i in range(len(rf_predicted)):\n",
        "            arr = [knn_predicted[i], svm_predicted[i], rf_predicted[i]]\n",
        "            b = Counter(arr)\n",
        "\n",
        "            winner = b.most_common(1)[0][0]\n",
        "            winners_array.append(winner)\n",
        "\n",
        "        return winners_array\n",
        "    else:\n",
        "        print(\"pole nemají stejnou délku\")\n",
        "        sys.exit()\n",
        "\n",
        "def fourier_descriptors(contour, num):\n",
        "    contour_complex = contour[:, 0, 0] + contour[:, 0, 1] * 1j\n",
        "\n",
        "    ft_contour = np.fft.fft(contour_complex)\n",
        "    fd = ft_contour[1:num + 1] / (len(ft_contour) ** 2)\n",
        "    return fd"
      ],
      "metadata": {
        "id": "JpzZ6Y8KbGc2"
      },
      "execution_count": 5,
      "outputs": []
    },
    {
      "cell_type": "markdown",
      "source": [
        "### Main Script - Accuracy"
      ],
      "metadata": {
        "id": "dv3zC5BAZ3xX"
      }
    },
    {
      "cell_type": "code",
      "source": [
        "file = np.load(\"drive/Colab Notebooks/FD.npy\", encoding='bytes', allow_pickle=True)\n",
        "\n",
        "deskriptory = file[0]\n",
        "cislice = file[1]\n",
        "\n",
        "X_train, X_test, y_train, y_test = train_test_split(deskriptory, cislice, test_size=0.2, random_state=42)"
      ],
      "metadata": {
        "colab": {
          "base_uri": "https://localhost:8080/",
          "height": 375
        },
        "id": "7X5pYeI9Z-7-",
        "outputId": "2b9271fa-7b5d-4267-c1d7-0178bc4628f7"
      },
      "execution_count": 8,
      "outputs": [
        {
          "output_type": "error",
          "ename": "FileNotFoundError",
          "evalue": "ignored",
          "traceback": [
            "\u001b[0;31m---------------------------------------------------------------------------\u001b[0m",
            "\u001b[0;31mFileNotFoundError\u001b[0m                         Traceback (most recent call last)",
            "\u001b[0;32m<ipython-input-8-754e4f6ef56f>\u001b[0m in \u001b[0;36m<cell line: 1>\u001b[0;34m()\u001b[0m\n\u001b[0;32m----> 1\u001b[0;31m \u001b[0mfile\u001b[0m \u001b[0;34m=\u001b[0m \u001b[0mnp\u001b[0m\u001b[0;34m.\u001b[0m\u001b[0mload\u001b[0m\u001b[0;34m(\u001b[0m\u001b[0;34m\"drive/Colab Notebooks/FD.npy\"\u001b[0m\u001b[0;34m,\u001b[0m \u001b[0mencoding\u001b[0m\u001b[0;34m=\u001b[0m\u001b[0;34m'bytes'\u001b[0m\u001b[0;34m,\u001b[0m \u001b[0mallow_pickle\u001b[0m\u001b[0;34m=\u001b[0m\u001b[0;32mTrue\u001b[0m\u001b[0;34m)\u001b[0m\u001b[0;34m\u001b[0m\u001b[0;34m\u001b[0m\u001b[0m\n\u001b[0m\u001b[1;32m      2\u001b[0m \u001b[0;34m\u001b[0m\u001b[0m\n\u001b[1;32m      3\u001b[0m \u001b[0mdeskriptory\u001b[0m \u001b[0;34m=\u001b[0m \u001b[0mfile\u001b[0m\u001b[0;34m[\u001b[0m\u001b[0;36m0\u001b[0m\u001b[0;34m]\u001b[0m\u001b[0;34m\u001b[0m\u001b[0;34m\u001b[0m\u001b[0m\n\u001b[1;32m      4\u001b[0m \u001b[0mcislice\u001b[0m \u001b[0;34m=\u001b[0m \u001b[0mfile\u001b[0m\u001b[0;34m[\u001b[0m\u001b[0;36m1\u001b[0m\u001b[0;34m]\u001b[0m\u001b[0;34m\u001b[0m\u001b[0;34m\u001b[0m\u001b[0m\n\u001b[1;32m      5\u001b[0m \u001b[0;34m\u001b[0m\u001b[0m\n",
            "\u001b[0;32m/usr/local/lib/python3.10/dist-packages/numpy/lib/npyio.py\u001b[0m in \u001b[0;36mload\u001b[0;34m(file, mmap_mode, allow_pickle, fix_imports, encoding, max_header_size)\u001b[0m\n\u001b[1;32m    403\u001b[0m             \u001b[0mown_fid\u001b[0m \u001b[0;34m=\u001b[0m \u001b[0;32mFalse\u001b[0m\u001b[0;34m\u001b[0m\u001b[0;34m\u001b[0m\u001b[0m\n\u001b[1;32m    404\u001b[0m         \u001b[0;32melse\u001b[0m\u001b[0;34m:\u001b[0m\u001b[0;34m\u001b[0m\u001b[0;34m\u001b[0m\u001b[0m\n\u001b[0;32m--> 405\u001b[0;31m             \u001b[0mfid\u001b[0m \u001b[0;34m=\u001b[0m \u001b[0mstack\u001b[0m\u001b[0;34m.\u001b[0m\u001b[0menter_context\u001b[0m\u001b[0;34m(\u001b[0m\u001b[0mopen\u001b[0m\u001b[0;34m(\u001b[0m\u001b[0mos_fspath\u001b[0m\u001b[0;34m(\u001b[0m\u001b[0mfile\u001b[0m\u001b[0;34m)\u001b[0m\u001b[0;34m,\u001b[0m \u001b[0;34m\"rb\"\u001b[0m\u001b[0;34m)\u001b[0m\u001b[0;34m)\u001b[0m\u001b[0;34m\u001b[0m\u001b[0;34m\u001b[0m\u001b[0m\n\u001b[0m\u001b[1;32m    406\u001b[0m             \u001b[0mown_fid\u001b[0m \u001b[0;34m=\u001b[0m \u001b[0;32mTrue\u001b[0m\u001b[0;34m\u001b[0m\u001b[0;34m\u001b[0m\u001b[0m\n\u001b[1;32m    407\u001b[0m \u001b[0;34m\u001b[0m\u001b[0m\n",
            "\u001b[0;31mFileNotFoundError\u001b[0m: [Errno 2] No such file or directory: 'drive/Colab Notebooks/FD.npy'"
          ]
        }
      ]
    },
    {
      "cell_type": "markdown",
      "source": [
        "kNN - Accuracy"
      ],
      "metadata": {
        "id": "zt57AqDubUL7"
      }
    },
    {
      "cell_type": "code",
      "source": [
        "knn = kNN.kNN(7, X_train, y_train)\n",
        "knn_predicted = knn.predict(X_test)\n",
        "knn.metrics()"
      ],
      "metadata": {
        "id": "eH8Yk2KHbZdC"
      },
      "execution_count": null,
      "outputs": []
    },
    {
      "cell_type": "markdown",
      "source": [
        "SVM - Accuracy"
      ],
      "metadata": {
        "id": "lOmG-5JdbdDR"
      }
    },
    {
      "cell_type": "code",
      "source": [
        "svm = SVM.SVM(X_train, y_train)\n",
        "svm.fit()\n",
        "svm_predicted = svm.predict(X_test)\n",
        "svm.metrics()"
      ],
      "metadata": {
        "id": "MiwpocIGbeUZ"
      },
      "execution_count": null,
      "outputs": []
    },
    {
      "cell_type": "markdown",
      "source": [
        "Random Forest - Accuracy"
      ],
      "metadata": {
        "id": "psNHzkj3bhYF"
      }
    },
    {
      "cell_type": "code",
      "source": [
        "rf = RandomForest.RandomForest(X_train, y_train)\n",
        "rf.fit()\n",
        "rf_predicted = rf.predict(X_test)\n",
        "rf.metrics()"
      ],
      "metadata": {
        "id": "MnbMxF6IbkM3"
      },
      "execution_count": null,
      "outputs": []
    },
    {
      "cell_type": "markdown",
      "source": [
        "Fúze - Accuracy"
      ],
      "metadata": {
        "id": "AJcUlp4_brVS"
      }
    },
    {
      "cell_type": "code",
      "source": [
        "y_predicted = winners(knn_predicted, svm_predicted, rf_predicted)\n",
        "metrics(y_predicted, y_test)"
      ],
      "metadata": {
        "id": "f-qQP665buPY"
      },
      "execution_count": null,
      "outputs": []
    },
    {
      "cell_type": "markdown",
      "source": [
        "### Main Script - Real Testing"
      ],
      "metadata": {
        "id": "eR9jHsxgbwt0"
      }
    },
    {
      "cell_type": "code",
      "source": [
        "    pocet_des = 30\n",
        "    img = cv.imread(\"/Users/michalprusek/Desktop/SU1 - cislice/TEST/TEST.png\")\n",
        "\n",
        "    img = cv.cvtColor(img, cv.COLOR_BGR2GRAY)\n",
        "\n",
        "    drawing = np.zeros(np.shape(img), np.uint8)\n",
        "\n",
        "    img[img >= 127] = 255\n",
        "    img[img < 127] = 0\n",
        "    img = np.invert(img)\n",
        "\n",
        "    contours, hierarchy = cv.findContours(img, cv.RETR_EXTERNAL, cv.CHAIN_APPROX_SIMPLE)\n",
        "\n",
        "    sorted_contours = sorted(contours, key=lambda ctr: cv.boundingRect(ctr)[0])\n",
        "\n",
        "    FD_array = []\n",
        "    for contour in sorted_contours:\n",
        "        FD = fourier_descriptors(contour, pocet_des)\n",
        "        FD_array.append(FD)\n",
        "\n",
        "    knn_predicted = knn.predict(FD_array)\n",
        "\n",
        "    svm_predicted = svm.predict(FD_array)\n",
        "\n",
        "    rf_predicted = rf.predict(FD_array)\n",
        "\n",
        "    y_predicted = winners_testing(knn_predicted, svm_predicted, rf_predicted)\n",
        "\n",
        "    print(y_predicted)\n",
        "\n",
        "    for contour in sorted_contours:\n",
        "        cv.drawContours(drawing, [contour], -1, (255, 255, 255), 2)\n",
        "\n",
        "    cv.imshow(\"img\", drawing)\n",
        "    cv.waitKey(0)"
      ],
      "metadata": {
        "id": "K_Sb3uZdb2jz"
      },
      "execution_count": null,
      "outputs": []
    },
    {
      "cell_type": "markdown",
      "metadata": {
        "id": "xFA8079oj8xY"
      },
      "source": [
        "## Discuss the results\n",
        "\n",
        "Lorem ipsum dolor sit amet, consectetur adipiscing elit, sed do eiusmod tempor incididunt ut labore et dolore magna aliqua. Ut enim ad minim veniam, quis nostrud exercitation ullamco laboris nisi ut aliquip ex ea commodo consequat. Duis aute irure dolor in reprehenderit in voluptate velit esse cillum dolore eu fugiat nulla pariatur. Excepteur sint occaecat cupidatat non proident, sunt in culpa qui officia deserunt mollit anim id est laborum.\n",
        "\n",
        "Lorem ipsum dolor sit amet, consectetur adipiscing elit, sed do eiusmod tempor incididunt ut labore et dolore magna aliqua. Ut enim ad minim veniam, quis nostrud exercitation ullamco laboris nisi ut aliquip ex ea commodo consequat. Duis aute irure dolor in reprehenderit in voluptate velit esse cillum dolore eu fugiat nulla pariatur. Excepteur sint occaecat cupidatat non proident, sunt in culpa qui officia deserunt mollit anim id est laborum."
      ]
    }
  ]
}